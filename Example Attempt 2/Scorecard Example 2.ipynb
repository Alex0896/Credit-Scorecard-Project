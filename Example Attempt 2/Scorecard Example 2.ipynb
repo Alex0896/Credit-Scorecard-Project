{
 "cells": [
  {
   "cell_type": "code",
   "execution_count": 1,
   "metadata": {},
   "outputs": [],
   "source": [
    "# Quick attempt at german credit dataset.\n",
    "# Imports\n",
    "import numpy as np\n",
    "import pandas as pd\n",
    "import scorecardpy as sc\n",
    "import matplotlib.pyplot as plt\n",
    "import seaborn as sns\n",
    "from sklearn.linear_model import LogisticRegression\n",
    "from sklearn.metrics import log_loss\n",
    "from sklearn.metrics import classification_report, confusion_matrix\n",
    "\n",
    "\n",
    "import warnings\n",
    "warnings.simplefilter(action='ignore', category=FutureWarning)"
   ]
  },
  {
   "cell_type": "code",
   "execution_count": 2,
   "metadata": {},
   "outputs": [],
   "source": [
    "df = pd.read_csv('germancredit.csv')"
   ]
  },
  {
   "cell_type": "code",
   "execution_count": 3,
   "metadata": {},
   "outputs": [
    {
     "data": {
      "text/html": [
       "<div>\n",
       "<style scoped>\n",
       "    .dataframe tbody tr th:only-of-type {\n",
       "        vertical-align: middle;\n",
       "    }\n",
       "\n",
       "    .dataframe tbody tr th {\n",
       "        vertical-align: top;\n",
       "    }\n",
       "\n",
       "    .dataframe thead th {\n",
       "        text-align: right;\n",
       "    }\n",
       "</style>\n",
       "<table border=\"1\" class=\"dataframe\">\n",
       "  <thead>\n",
       "    <tr style=\"text-align: right;\">\n",
       "      <th></th>\n",
       "      <th>Default</th>\n",
       "      <th>checkingstatus1</th>\n",
       "      <th>duration</th>\n",
       "      <th>history</th>\n",
       "      <th>purpose</th>\n",
       "      <th>amount</th>\n",
       "      <th>savings</th>\n",
       "      <th>employ</th>\n",
       "      <th>installment</th>\n",
       "      <th>status</th>\n",
       "      <th>...</th>\n",
       "      <th>residence</th>\n",
       "      <th>property</th>\n",
       "      <th>age</th>\n",
       "      <th>otherplans</th>\n",
       "      <th>housing</th>\n",
       "      <th>cards</th>\n",
       "      <th>job</th>\n",
       "      <th>liable</th>\n",
       "      <th>tele</th>\n",
       "      <th>foreign</th>\n",
       "    </tr>\n",
       "  </thead>\n",
       "  <tbody>\n",
       "    <tr>\n",
       "      <th>0</th>\n",
       "      <td>0</td>\n",
       "      <td>A11</td>\n",
       "      <td>6</td>\n",
       "      <td>A34</td>\n",
       "      <td>A43</td>\n",
       "      <td>1169</td>\n",
       "      <td>A65</td>\n",
       "      <td>A75</td>\n",
       "      <td>4</td>\n",
       "      <td>A93</td>\n",
       "      <td>...</td>\n",
       "      <td>4</td>\n",
       "      <td>A121</td>\n",
       "      <td>67</td>\n",
       "      <td>A143</td>\n",
       "      <td>A152</td>\n",
       "      <td>2</td>\n",
       "      <td>A173</td>\n",
       "      <td>1</td>\n",
       "      <td>A192</td>\n",
       "      <td>A201</td>\n",
       "    </tr>\n",
       "    <tr>\n",
       "      <th>1</th>\n",
       "      <td>1</td>\n",
       "      <td>A12</td>\n",
       "      <td>48</td>\n",
       "      <td>A32</td>\n",
       "      <td>A43</td>\n",
       "      <td>5951</td>\n",
       "      <td>A61</td>\n",
       "      <td>A73</td>\n",
       "      <td>2</td>\n",
       "      <td>A92</td>\n",
       "      <td>...</td>\n",
       "      <td>2</td>\n",
       "      <td>A121</td>\n",
       "      <td>22</td>\n",
       "      <td>A143</td>\n",
       "      <td>A152</td>\n",
       "      <td>1</td>\n",
       "      <td>A173</td>\n",
       "      <td>1</td>\n",
       "      <td>A191</td>\n",
       "      <td>A201</td>\n",
       "    </tr>\n",
       "    <tr>\n",
       "      <th>2</th>\n",
       "      <td>0</td>\n",
       "      <td>A14</td>\n",
       "      <td>12</td>\n",
       "      <td>A34</td>\n",
       "      <td>A46</td>\n",
       "      <td>2096</td>\n",
       "      <td>A61</td>\n",
       "      <td>A74</td>\n",
       "      <td>2</td>\n",
       "      <td>A93</td>\n",
       "      <td>...</td>\n",
       "      <td>3</td>\n",
       "      <td>A121</td>\n",
       "      <td>49</td>\n",
       "      <td>A143</td>\n",
       "      <td>A152</td>\n",
       "      <td>1</td>\n",
       "      <td>A172</td>\n",
       "      <td>2</td>\n",
       "      <td>A191</td>\n",
       "      <td>A201</td>\n",
       "    </tr>\n",
       "    <tr>\n",
       "      <th>3</th>\n",
       "      <td>0</td>\n",
       "      <td>A11</td>\n",
       "      <td>42</td>\n",
       "      <td>A32</td>\n",
       "      <td>A42</td>\n",
       "      <td>7882</td>\n",
       "      <td>A61</td>\n",
       "      <td>A74</td>\n",
       "      <td>2</td>\n",
       "      <td>A93</td>\n",
       "      <td>...</td>\n",
       "      <td>4</td>\n",
       "      <td>A122</td>\n",
       "      <td>45</td>\n",
       "      <td>A143</td>\n",
       "      <td>A153</td>\n",
       "      <td>1</td>\n",
       "      <td>A173</td>\n",
       "      <td>2</td>\n",
       "      <td>A191</td>\n",
       "      <td>A201</td>\n",
       "    </tr>\n",
       "    <tr>\n",
       "      <th>4</th>\n",
       "      <td>1</td>\n",
       "      <td>A11</td>\n",
       "      <td>24</td>\n",
       "      <td>A33</td>\n",
       "      <td>A40</td>\n",
       "      <td>4870</td>\n",
       "      <td>A61</td>\n",
       "      <td>A73</td>\n",
       "      <td>3</td>\n",
       "      <td>A93</td>\n",
       "      <td>...</td>\n",
       "      <td>4</td>\n",
       "      <td>A124</td>\n",
       "      <td>53</td>\n",
       "      <td>A143</td>\n",
       "      <td>A153</td>\n",
       "      <td>2</td>\n",
       "      <td>A173</td>\n",
       "      <td>2</td>\n",
       "      <td>A191</td>\n",
       "      <td>A201</td>\n",
       "    </tr>\n",
       "  </tbody>\n",
       "</table>\n",
       "<p>5 rows × 21 columns</p>\n",
       "</div>"
      ],
      "text/plain": [
       "   Default checkingstatus1  duration history purpose  amount savings employ  \\\n",
       "0        0             A11         6     A34     A43    1169     A65    A75   \n",
       "1        1             A12        48     A32     A43    5951     A61    A73   \n",
       "2        0             A14        12     A34     A46    2096     A61    A74   \n",
       "3        0             A11        42     A32     A42    7882     A61    A74   \n",
       "4        1             A11        24     A33     A40    4870     A61    A73   \n",
       "\n",
       "   installment status  ... residence  property age  otherplans housing cards  \\\n",
       "0            4    A93  ...         4      A121  67        A143    A152     2   \n",
       "1            2    A92  ...         2      A121  22        A143    A152     1   \n",
       "2            2    A93  ...         3      A121  49        A143    A152     1   \n",
       "3            2    A93  ...         4      A122  45        A143    A153     1   \n",
       "4            3    A93  ...         4      A124  53        A143    A153     2   \n",
       "\n",
       "    job liable  tele foreign  \n",
       "0  A173      1  A192    A201  \n",
       "1  A173      1  A191    A201  \n",
       "2  A172      2  A191    A201  \n",
       "3  A173      2  A191    A201  \n",
       "4  A173      2  A191    A201  \n",
       "\n",
       "[5 rows x 21 columns]"
      ]
     },
     "execution_count": 3,
     "metadata": {},
     "output_type": "execute_result"
    }
   ],
   "source": [
    "df.head()"
   ]
  },
  {
   "cell_type": "code",
   "execution_count": 4,
   "metadata": {},
   "outputs": [
    {
     "name": "stdout",
     "output_type": "stream",
     "text": [
      "<class 'pandas.core.frame.DataFrame'>\n",
      "RangeIndex: 1000 entries, 0 to 999\n",
      "Data columns (total 21 columns):\n",
      "Default            1000 non-null int64\n",
      "checkingstatus1    1000 non-null object\n",
      "duration           1000 non-null int64\n",
      "history            1000 non-null object\n",
      "purpose            1000 non-null object\n",
      "amount             1000 non-null int64\n",
      "savings            1000 non-null object\n",
      "employ             1000 non-null object\n",
      "installment        1000 non-null int64\n",
      "status             1000 non-null object\n",
      "others             1000 non-null object\n",
      "residence          1000 non-null int64\n",
      "property           1000 non-null object\n",
      "age                1000 non-null int64\n",
      "otherplans         1000 non-null object\n",
      "housing            1000 non-null object\n",
      "cards              1000 non-null int64\n",
      "job                1000 non-null object\n",
      "liable             1000 non-null int64\n",
      "tele               1000 non-null object\n",
      "foreign            1000 non-null object\n",
      "dtypes: int64(8), object(13)\n",
      "memory usage: 164.2+ KB\n"
     ]
    }
   ],
   "source": [
    "df.info()\n",
    "# 8 Numerical Columns\n",
    "# 13 Categorical Columns"
   ]
  },
  {
   "cell_type": "code",
   "execution_count": 5,
   "metadata": {},
   "outputs": [
    {
     "data": {
      "text/html": [
       "<div>\n",
       "<style scoped>\n",
       "    .dataframe tbody tr th:only-of-type {\n",
       "        vertical-align: middle;\n",
       "    }\n",
       "\n",
       "    .dataframe tbody tr th {\n",
       "        vertical-align: top;\n",
       "    }\n",
       "\n",
       "    .dataframe thead th {\n",
       "        text-align: right;\n",
       "    }\n",
       "</style>\n",
       "<table border=\"1\" class=\"dataframe\">\n",
       "  <thead>\n",
       "    <tr style=\"text-align: right;\">\n",
       "      <th></th>\n",
       "      <th>Default</th>\n",
       "      <th>duration</th>\n",
       "      <th>amount</th>\n",
       "      <th>installment</th>\n",
       "      <th>residence</th>\n",
       "      <th>age</th>\n",
       "      <th>cards</th>\n",
       "      <th>liable</th>\n",
       "    </tr>\n",
       "  </thead>\n",
       "  <tbody>\n",
       "    <tr>\n",
       "      <th>count</th>\n",
       "      <td>1000.000000</td>\n",
       "      <td>1000.000000</td>\n",
       "      <td>1000.000000</td>\n",
       "      <td>1000.000000</td>\n",
       "      <td>1000.000000</td>\n",
       "      <td>1000.000000</td>\n",
       "      <td>1000.000000</td>\n",
       "      <td>1000.000000</td>\n",
       "    </tr>\n",
       "    <tr>\n",
       "      <th>mean</th>\n",
       "      <td>0.300000</td>\n",
       "      <td>20.903000</td>\n",
       "      <td>3271.258000</td>\n",
       "      <td>2.973000</td>\n",
       "      <td>2.845000</td>\n",
       "      <td>35.546000</td>\n",
       "      <td>1.407000</td>\n",
       "      <td>1.155000</td>\n",
       "    </tr>\n",
       "    <tr>\n",
       "      <th>std</th>\n",
       "      <td>0.458487</td>\n",
       "      <td>12.058814</td>\n",
       "      <td>2822.736876</td>\n",
       "      <td>1.118715</td>\n",
       "      <td>1.103718</td>\n",
       "      <td>11.375469</td>\n",
       "      <td>0.577654</td>\n",
       "      <td>0.362086</td>\n",
       "    </tr>\n",
       "    <tr>\n",
       "      <th>min</th>\n",
       "      <td>0.000000</td>\n",
       "      <td>4.000000</td>\n",
       "      <td>250.000000</td>\n",
       "      <td>1.000000</td>\n",
       "      <td>1.000000</td>\n",
       "      <td>19.000000</td>\n",
       "      <td>1.000000</td>\n",
       "      <td>1.000000</td>\n",
       "    </tr>\n",
       "    <tr>\n",
       "      <th>25%</th>\n",
       "      <td>0.000000</td>\n",
       "      <td>12.000000</td>\n",
       "      <td>1365.500000</td>\n",
       "      <td>2.000000</td>\n",
       "      <td>2.000000</td>\n",
       "      <td>27.000000</td>\n",
       "      <td>1.000000</td>\n",
       "      <td>1.000000</td>\n",
       "    </tr>\n",
       "    <tr>\n",
       "      <th>50%</th>\n",
       "      <td>0.000000</td>\n",
       "      <td>18.000000</td>\n",
       "      <td>2319.500000</td>\n",
       "      <td>3.000000</td>\n",
       "      <td>3.000000</td>\n",
       "      <td>33.000000</td>\n",
       "      <td>1.000000</td>\n",
       "      <td>1.000000</td>\n",
       "    </tr>\n",
       "    <tr>\n",
       "      <th>75%</th>\n",
       "      <td>1.000000</td>\n",
       "      <td>24.000000</td>\n",
       "      <td>3972.250000</td>\n",
       "      <td>4.000000</td>\n",
       "      <td>4.000000</td>\n",
       "      <td>42.000000</td>\n",
       "      <td>2.000000</td>\n",
       "      <td>1.000000</td>\n",
       "    </tr>\n",
       "    <tr>\n",
       "      <th>max</th>\n",
       "      <td>1.000000</td>\n",
       "      <td>72.000000</td>\n",
       "      <td>18424.000000</td>\n",
       "      <td>4.000000</td>\n",
       "      <td>4.000000</td>\n",
       "      <td>75.000000</td>\n",
       "      <td>4.000000</td>\n",
       "      <td>2.000000</td>\n",
       "    </tr>\n",
       "  </tbody>\n",
       "</table>\n",
       "</div>"
      ],
      "text/plain": [
       "           Default     duration        amount  installment    residence  \\\n",
       "count  1000.000000  1000.000000   1000.000000  1000.000000  1000.000000   \n",
       "mean      0.300000    20.903000   3271.258000     2.973000     2.845000   \n",
       "std       0.458487    12.058814   2822.736876     1.118715     1.103718   \n",
       "min       0.000000     4.000000    250.000000     1.000000     1.000000   \n",
       "25%       0.000000    12.000000   1365.500000     2.000000     2.000000   \n",
       "50%       0.000000    18.000000   2319.500000     3.000000     3.000000   \n",
       "75%       1.000000    24.000000   3972.250000     4.000000     4.000000   \n",
       "max       1.000000    72.000000  18424.000000     4.000000     4.000000   \n",
       "\n",
       "               age        cards       liable  \n",
       "count  1000.000000  1000.000000  1000.000000  \n",
       "mean     35.546000     1.407000     1.155000  \n",
       "std      11.375469     0.577654     0.362086  \n",
       "min      19.000000     1.000000     1.000000  \n",
       "25%      27.000000     1.000000     1.000000  \n",
       "50%      33.000000     1.000000     1.000000  \n",
       "75%      42.000000     2.000000     1.000000  \n",
       "max      75.000000     4.000000     2.000000  "
      ]
     },
     "execution_count": 5,
     "metadata": {},
     "output_type": "execute_result"
    }
   ],
   "source": [
    "df.describe()"
   ]
  },
  {
   "cell_type": "code",
   "execution_count": 6,
   "metadata": {},
   "outputs": [],
   "source": [
    "sns.set_style('darkgrid')\n",
    "total = float(len(df))\n",
    "def with_hue(plot, feature, hue_categories):\n",
    "    a = [p.get_height() for p in plot.patches]\n",
    "    patch = [p for p in plot.patches]\n",
    "    category_labels = feature.unique()\n",
    "    Number_of_categories = len(category_labels)\n",
    "    k = 0\n",
    "    for i in category_labels:\n",
    "        total = feature.value_counts()[i]\n",
    "        for j in range(hue_categories):\n",
    "            percentage = 100 * a[(j*Number_of_categories + k)] / total\n",
    "            x = patch[(j*Number_of_categories + k)].get_x() + patch[(j*Number_of_categories + k)].get_width() / 2 - 0.15\n",
    "            y = patch[(j*Number_of_categories + k)].get_y() + patch[(j*Number_of_categories + k)].get_height() \n",
    "            ax.text(\n",
    "                (patch[(j*Number_of_categories + k)].get_x() \n",
    "                 + patch[(j*Number_of_categories + k)].get_width()),\n",
    "                patch[(j*Number_of_categories + k)].get_height() + 3,\n",
    "                '{:.1f}%'.format(percentage),\n",
    "                ha='right'\n",
    "            )\n",
    "        k += 1\n",
    "    plt.show()"
   ]
  },
  {
   "cell_type": "code",
   "execution_count": 7,
   "metadata": {},
   "outputs": [
    {
     "data": {
      "image/png": "[encoded data removed]",
      "text/plain": [
       "<Figure size 432x288 with 1 Axes>"
      ]
     },
     "metadata": {},
     "output_type": "display_data"
    }
   ],
   "source": [
    "ax = sns.countplot(x=\"history\", hue=\"Default\", data=df) \n",
    "with_hue(ax, df.history, 2)\n",
    "# Split changes quite a bit depending on the category\n",
    "# Indicates this could be a signifcant variable"
   ]
  },
  {
   "cell_type": "code",
   "execution_count": 8,
   "metadata": {},
   "outputs": [
    {
     "data": {
      "image/png": "[encoded data removed]",
      "text/plain": [
       "<Figure size 432x288 with 1 Axes>"
      ]
     },
     "metadata": {},
     "output_type": "display_data"
    }
   ],
   "source": [
    "ax = sns.countplot(x='job', hue='Default', data=df)\n",
    "with_hue(ax, df.job, 2)\n",
    "# Split stays relatively the same across all categories\n",
    "# Indicates that this might be an insignifcant variable"
   ]
  },
  {
   "cell_type": "code",
   "execution_count": 9,
   "metadata": {},
   "outputs": [
    {
     "name": "stdout",
     "output_type": "stream",
     "text": [
      "[INFO] creating woe binning ...\n",
      "Binning on 1000 rows and 21 columns in 00:00:10\n"
     ]
    }
   ],
   "source": [
    "bins = sc.woebin(df, 'Default')"
   ]
  },
  {
   "cell_type": "code",
   "execution_count": 10,
   "metadata": {},
   "outputs": [
    {
     "name": "stdout",
     "output_type": "stream",
     "text": [
      "property\n",
      "        woe    bin_iv  total_iv\n",
      "0 -0.461035  0.054007  0.112638\n",
      "1  0.028573  0.000190  0.112638\n",
      "2  0.034191  0.000391  0.112638\n",
      "3  0.586082  0.058050  0.112638\n",
      "checkingstatus1\n",
      "        woe    bin_iv  total_iv\n",
      "0 -1.176263  0.404410  0.639372\n",
      "1 -0.405465  0.009461  0.639372\n",
      "2  0.614204  0.225501  0.639372\n",
      "savings\n",
      "        woe    bin_iv  total_iv\n",
      "0 -0.762140  0.142266  0.190974\n",
      "1  0.139552  0.002060  0.190974\n",
      "2  0.271358  0.046648  0.190974\n",
      "installment\n",
      "        woe    bin_iv  total_iv\n",
      "0 -0.190473  0.012789  0.025569\n",
      "1 -0.064539  0.000645  0.025569\n",
      "2  0.157300  0.012135  0.025569\n",
      "purpose\n",
      "        woe    bin_iv  total_iv\n",
      "0 -0.805625  0.059846  0.152924\n",
      "1 -0.410063  0.042959  0.152924\n",
      "2  0.279920  0.050119  0.152924\n",
      "status\n",
      "        woe    bin_iv  total_iv\n",
      "0 -0.161641  0.016164  0.044615\n",
      "1  0.235341  0.017931  0.044615\n",
      "2  0.441833  0.010520  0.044615\n",
      "others\n",
      "        woe    bin_iv  total_iv\n",
      "0 -0.587787  0.015674   0.01642\n",
      "1  0.027974  0.000746   0.01642\n",
      "otherplans\n",
      "        woe    bin_iv  total_iv\n",
      "0 -0.121179  0.011656  0.057592\n",
      "1  0.477551  0.045936  0.057592\n",
      "cards\n",
      "        woe    bin_iv  total_iv\n",
      "0  0.074877  0.003601  0.010084\n",
      "1 -0.134781  0.006482  0.010084\n",
      "housing\n",
      "        woe    bin_iv  total_iv\n",
      "0 -0.194156  0.025795  0.083293\n",
      "1  0.404445  0.031393  0.083293\n",
      "2  0.472604  0.026106  0.083293\n",
      "employ\n",
      "        woe    bin_iv  total_iv\n",
      "0 -0.394415  0.024792  0.085301\n",
      "1 -0.235566  0.013349  0.085301\n",
      "2  0.032103  0.000352  0.085301\n",
      "3  0.431137  0.046809  0.085301\n",
      "history\n",
      "        woe    bin_iv  total_iv\n",
      "0 -0.733741  0.132423   0.29183\n",
      "1  0.085158  0.000649   0.29183\n",
      "2  0.088319  0.004206   0.29183\n",
      "3  1.234071  0.154553   0.29183\n",
      "age\n",
      "        woe    bin_iv  total_iv\n",
      "0  0.528844  0.057921  0.130499\n",
      "1 -0.160930  0.002529  0.130499\n",
      "2  0.142455  0.005359  0.130499\n",
      "3 -0.872488  0.048610  0.130499\n",
      "4 -0.212371  0.016080  0.130499\n",
      "residence\n",
      "        woe        bin_iv  total_iv\n",
      "0 -0.112478  1.606828e-03  0.003589\n",
      "1  0.070151  1.536634e-03  0.003589\n",
      "2 -0.054941  4.447614e-04  0.003589\n",
      "3  0.001153  5.489228e-07  0.003589\n",
      "amount\n",
      "        woe    bin_iv  total_iv\n",
      "0  0.033661  0.000305   0.18122\n",
      "1 -0.728239  0.046815   0.18122\n",
      "2 -0.258307  0.024109   0.18122\n",
      "3  0.390539  0.031987   0.18122\n",
      "4  1.170071  0.078005   0.18122\n",
      "job\n",
      "        woe    bin_iv  total_iv\n",
      "0 -0.097164  0.001851  0.008484\n",
      "1 -0.022780  0.000325  0.008484\n",
      "2  0.189242  0.006308  0.008484\n",
      "tele\n",
      "        woe    bin_iv  total_iv\n",
      "0 -0.098638  0.003852  0.006378\n",
      "1  0.064691  0.002526  0.006378\n",
      "liable\n",
      "        woe    bin_iv  total_iv\n",
      "0  0.002816  0.000007  0.000043\n",
      "1 -0.015409  0.000037  0.000043\n",
      "foreign\n",
      "   woe  bin_iv  total_iv\n",
      "0  0.0     0.0       0.0\n",
      "duration\n",
      "        woe    bin_iv  total_iv\n",
      "0 -1.312186  0.106849  0.282618\n",
      "1 -0.346625  0.038294  0.282618\n",
      "2  0.108688  0.004813  0.282618\n",
      "3  0.524524  0.029973  0.282618\n",
      "4  1.134980  0.102689  0.282618\n"
     ]
    }
   ],
   "source": [
    "for k, bin_ in bins.items():\n",
    "    print(k)\n",
    "    print(bin_[['woe', 'bin_iv','total_iv']])\n",
    "    \n",
    "# total iv for history: 0.29183\n",
    "# total iv for job: 0.008484\n",
    "# Further backs up the observations from the plots above"
   ]
  },
  {
   "cell_type": "code",
   "execution_count": 11,
   "metadata": {},
   "outputs": [],
   "source": [
    "# split into train and test set\n",
    "train, test = sc.split_df(df, 'Default').values()"
   ]
  },
  {
   "cell_type": "code",
   "execution_count": 12,
   "metadata": {},
   "outputs": [
    {
     "name": "stdout",
     "output_type": "stream",
     "text": [
      "[INFO] converting into woe values ...\n",
      "[INFO] converting into woe values ...\n"
     ]
    }
   ],
   "source": [
    "# Convert values into woe\n",
    "train_woe = sc.woebin_ply(train, bins)\n",
    "test_woe = sc.woebin_ply(test, bins)"
   ]
  },
  {
   "cell_type": "code",
   "execution_count": 13,
   "metadata": {},
   "outputs": [],
   "source": [
    "y_train = train_woe.loc[:,'Default']\n",
    "X_train = train_woe.loc[:,train_woe.columns != 'Default']\n",
    "y_test = test_woe.loc[:,'Default']\n",
    "X_test = test_woe.loc[:,train_woe.columns != 'Default']"
   ]
  },
  {
   "cell_type": "code",
   "execution_count": 14,
   "metadata": {},
   "outputs": [
    {
     "data": {
      "text/plain": [
       "LogisticRegression()"
      ]
     },
     "execution_count": 14,
     "metadata": {},
     "output_type": "execute_result"
    }
   ],
   "source": [
    "# Fit logit model\n",
    "lr = LogisticRegression()\n",
    "lr.fit(X_train, y_train)"
   ]
  },
  {
   "cell_type": "code",
   "execution_count": 15,
   "metadata": {},
   "outputs": [],
   "source": [
    "# Get probabilities\n",
    "train_pred = lr.predict_proba(X_train)[:,1]\n",
    "test_pred = lr.predict_proba(X_test)[:,1]"
   ]
  },
  {
   "cell_type": "code",
   "execution_count": 16,
   "metadata": {},
   "outputs": [
    {
     "data": {
      "image/png": "[encoded data removed]",
      "text/plain": [
       "<Figure size 432x288 with 2 Axes>"
      ]
     },
     "metadata": {},
     "output_type": "display_data"
    },
    {
     "data": {
      "image/png": "[encoded data removed]",
      "text/plain": [
       "<Figure size 432x288 with 2 Axes>"
      ]
     },
     "metadata": {},
     "output_type": "display_data"
    }
   ],
   "source": [
    "# Plot diagnositcs\n",
    "train_perf = sc.perf_eva(y_train, train_pred, title = \"train\")\n",
    "test_perf = sc.perf_eva(y_test, test_pred, title = \"test\")"
   ]
  },
  {
   "cell_type": "code",
   "execution_count": 17,
   "metadata": {},
   "outputs": [
    {
     "name": "stdout",
     "output_type": "stream",
     "text": [
      "property\n",
      "checkingstatus1\n",
      "savings\n",
      "purpose\n",
      "history\n",
      "age\n",
      "amount\n",
      "duration\n"
     ]
    }
   ],
   "source": [
    "# Try a subset of iv values > 0.1\n",
    "for k, bin_ in bins.items():\n",
    "    if bin_.total_iv[0] > 0.1:\n",
    "        print(k)"
   ]
  },
  {
   "cell_type": "code",
   "execution_count": 18,
   "metadata": {},
   "outputs": [],
   "source": [
    "# 8 cols vs 20\n",
    "cols = [\n",
    "    'Default', 'property', 'age', 'amount', 'purpose', 'checkingstatus1', \n",
    "    'history', 'duration', 'savings'\n",
    "]\n",
    "\n",
    "df_new = df[cols]"
   ]
  },
  {
   "cell_type": "code",
   "execution_count": 19,
   "metadata": {},
   "outputs": [
    {
     "name": "stdout",
     "output_type": "stream",
     "text": [
      "[INFO] converting into woe values ...\n",
      "[INFO] converting into woe values ...\n"
     ]
    },
    {
     "data": {
      "text/plain": [
       "LogisticRegression()"
      ]
     },
     "execution_count": 19,
     "metadata": {},
     "output_type": "execute_result"
    }
   ],
   "source": [
    "# split into train and test set\n",
    "train_new, test_new = sc.split_df(df_new, 'Default').values()\n",
    "# Convert values into woe\n",
    "train_woe_new = sc.woebin_ply(train_new, bins)\n",
    "test_woe_new = sc.woebin_ply(test_new, bins)\n",
    "y_train_new = train_woe_new.loc[:,'Default']\n",
    "X_train_new = train_woe_new.loc[:,train_woe_new.columns != 'Default']\n",
    "y_test_new = test_woe_new.loc[:,'Default']\n",
    "X_test_new = test_woe_new.loc[:,test_woe_new.columns != 'Default']\n",
    "# Fit logit model\n",
    "lr_new = LogisticRegression()\n",
    "lr_new.fit(X_train_new, y_train_new)"
   ]
  },
  {
   "cell_type": "code",
   "execution_count": 20,
   "metadata": {},
   "outputs": [
    {
     "data": {
      "image/png": "[encoded data removed]",
      "text/plain": [
       "<Figure size 432x288 with 2 Axes>"
      ]
     },
     "metadata": {},
     "output_type": "display_data"
    },
    {
     "data": {
      "image/png": "[encoded data removed]",
      "text/plain": [
       "<Figure size 432x288 with 2 Axes>"
      ]
     },
     "metadata": {},
     "output_type": "display_data"
    }
   ],
   "source": [
    "# Get probabilities\n",
    "train_pred_new = lr_new.predict_proba(X_train_new)[:,1]\n",
    "test_pred_new = lr_new.predict_proba(X_test_new)[:,1]\n",
    "# Plot diagnositcs\n",
    "train_perf_new = sc.perf_eva(y_train_new, train_pred_new, title = \"train\")\n",
    "test_perf_new = sc.perf_eva(y_test_new, test_pred_new, title = \"test\")"
   ]
  },
  {
   "cell_type": "code",
   "execution_count": 21,
   "metadata": {},
   "outputs": [],
   "source": [
    "# AUC and K-S is lower in the smaller model but only slightly.\n",
    "# Going to calculate AIC \n",
    "# Get log-likelihood of each\n",
    "\n",
    "# log_loss function returns the negative log-likelihood\n",
    "# need to look into this as another package returns a different value and \n",
    "# outcome for the AIC, not sure yet which one is correct.\n",
    "\n",
    "ll_ = log_loss(y_test, test_pred) * len(y_test)\n",
    "ll_new = log_loss(y_test_new, test_pred_new) * len(y_test)"
   ]
  },
  {
   "cell_type": "code",
   "execution_count": 23,
   "metadata": {},
   "outputs": [],
   "source": [
    "AIC = -2*(-ll_) + 2*20\n",
    "AIC_new = -2*(-ll_new) + 2*8"
   ]
  },
  {
   "cell_type": "code",
   "execution_count": 24,
   "metadata": {},
   "outputs": [
    {
     "name": "stdout",
     "output_type": "stream",
     "text": [
      "AIC: 306.55374318778547\n",
      "AIC_new: 291.6523471354327\n"
     ]
    }
   ],
   "source": [
    "print(\"AIC: \" + str(AIC))\n",
    "print(\"AIC_new: \" + str(AIC_new))\n",
    "# AIC for the smaller models suggests it is the \"better fit\" over the\n",
    "# full model"
   ]
  }
 ],
 "metadata": {
  "kernelspec": {
   "display_name": "Python 3",
   "language": "python",
   "name": "python3"
  },
  "language_info": {
   "codemirror_mode": {
    "name": "ipython",
    "version": 3
   },
   "file_extension": ".py",
   "mimetype": "text/x-python",
   "name": "python",
   "nbconvert_exporter": "python",
   "pygments_lexer": "ipython3",
   "version": "3.7.3"
  }
 },
 "nbformat": 4,
 "nbformat_minor": 2
}
